{
 "cells": [
  {
   "cell_type": "markdown",
   "metadata": {},
   "source": [
    "# Initialisation"
   ]
  },
  {
   "cell_type": "markdown",
   "metadata": {},
   "source": [
    "## Jeu de données"
   ]
  },
  {
   "cell_type": "markdown",
   "metadata": {},
   "source": [
    "Nous allons vous présenter l'utilisation des algorithmes backward, forward et viterbi à l'aide d'un jeu de données que nous avons programmée en suivant le schéma ci-dessous."
   ]
  },
  {
   "cell_type": "markdown",
   "metadata": {},
   "source": [
    "<img src=\"Donnees.png\"/>"
   ]
  },
  {
   "cell_type": "markdown",
   "metadata": {},
   "source": [
    "D'abord, une importation de la librairie numpy est nécessaires"
   ]
  },
  {
   "cell_type": "code",
   "execution_count": 1,
   "metadata": {},
   "outputs": [],
   "source": [
    "import numpy as np"
   ]
  },
  {
   "cell_type": "markdown",
   "metadata": {},
   "source": [
    "Nous allons générer 5 états que nous allons utiliser et analyser tout le long de nos programmes.  "
   ]
  },
  {
   "cell_type": "code",
   "execution_count": 2,
   "metadata": {},
   "outputs": [],
   "source": [
    "N = 5 #nombre d'états à generer"
   ]
  },
  {
   "cell_type": "markdown",
   "metadata": {},
   "source": [
    "Ensuite, on prend des probabilités aléatoires pour construire la matrice des états et des observations en suivant les probabilités indiquées dans le schéma au dessus. "
   ]
  },
  {
   "cell_type": "markdown",
   "metadata": {},
   "source": [
    "## Etat 0"
   ]
  },
  {
   "cell_type": "markdown",
   "metadata": {},
   "source": [
    "Suivant les probabilités connues, nous avons généré un premier état : "
   ]
  },
  {
   "cell_type": "code",
   "execution_count": 3,
   "metadata": {},
   "outputs": [],
   "source": [
    "etats = []\n",
    "\n",
    "if  np.random.rand() < 0.6:\n",
    "    etats.append('Sain')\n",
    "else:\n",
    "    etats.append('Malade')"
   ]
  },
  {
   "cell_type": "markdown",
   "metadata": {},
   "source": [
    "## Observation 0"
   ]
  },
  {
   "cell_type": "markdown",
   "metadata": {},
   "source": [
    "Une nouvelle fois, nous allons générer un nombre entre 0 et 1 de manière aléatoire afin d'avoir la probabilité d'une première observation. "
   ]
  },
  {
   "cell_type": "code",
   "execution_count": 4,
   "metadata": {},
   "outputs": [],
   "source": [
    "obs = []\n",
    "\n",
    "tmp = np.random.rand()"
   ]
  },
  {
   "cell_type": "markdown",
   "metadata": {},
   "source": [
    "En suivant le schéma nous avons : \n",
    "\n",
    "    Si sain : \n",
    "        70% normal\n",
    "        20% rhume \n",
    "        10% fievre\n",
    "\n",
    "    Si malade : \n",
    "        10% normal\n",
    "        40% rhume\n",
    "        50% fievre\n",
    "\n",
    "Ainsi, nous avons construit un programme permettant d'obtenir l'observation à l'état 0 : "
   ]
  },
  {
   "cell_type": "code",
   "execution_count": 5,
   "metadata": {},
   "outputs": [],
   "source": [
    "if etats[0] == 'Sain':\n",
    "    if tmp < 0.7:\n",
    "        obs.append('Normal')\n",
    "    elif tmp < 0.9:\n",
    "        obs.append('Rhume')\n",
    "    else:\n",
    "        obs.append('Fièvre')\n",
    "else:\n",
    "    if tmp < 0.1:\n",
    "        obs.append('Normal')\n",
    "    elif tmp < 0.5:\n",
    "        obs.append('Rhume')\n",
    "    else:\n",
    "        obs.append('Fièvre')"
   ]
  },
  {
   "cell_type": "markdown",
   "metadata": {},
   "source": [
    "## Liste des états et des observations"
   ]
  },
  {
   "cell_type": "markdown",
   "metadata": {},
   "source": [
    "Grâce aux programmes fait au préalable nous avons l'état et l'observation à l'instant 0. De ce fait, nous pouvons générer les observations et les états des instants suivant. \n",
    "\n",
    "Génération des états : \n",
    "\n",
    "    Si état k est sain : \n",
    "        70% que l'état k+1 soit sain \n",
    "        30% que l'état k+1 soit malade \n",
    "    Sinon :\n",
    "        40% que l'état k+1 soit sain \n",
    "        60% que l'état k+1 soit malade \n",
    "        \n",
    "Génération des observations : \n",
    "        \n",
    "    Si l'état k+1 est sain : \n",
    "        70% normal \n",
    "        20% rhume \n",
    "        10% fièvre \n",
    "        \n",
    "    Sinon : \n",
    "        10% normal \n",
    "        30% rhume \n",
    "        60% fièvre "
   ]
  },
  {
   "cell_type": "code",
   "execution_count": 6,
   "metadata": {},
   "outputs": [],
   "source": [
    "for k in range(N-1):\n",
    "    if etats[k] == 'Sain':\n",
    "        if np.random.rand() < 0.7:\n",
    "            etats.append('Sain')\n",
    "        else:\n",
    "            etats.append('Malade')\n",
    "    else:\n",
    "        if np.random.rand() < 0.6:\n",
    "            etats.append('Malade')\n",
    "        else:\n",
    "            etats.append('Sain')\n",
    "\n",
    "    if etats[k+1] == 'Sain':\n",
    "        if tmp < 0.7:\n",
    "            obs.append('Normal')\n",
    "        elif tmp < 0.9:\n",
    "            obs.append('Rhume')\n",
    "        else:\n",
    "            obs.append('Fièvre')\n",
    "            \n",
    "    else:\n",
    "        if tmp < 0.1:\n",
    "            obs.append('Normal')\n",
    "        elif tmp < 0.4:\n",
    "            obs.append('Rhume')\n",
    "        else:\n",
    "            obs.append('Fièvre')"
   ]
  },
  {
   "cell_type": "markdown",
   "metadata": {},
   "source": [
    "# FORWARD-BACKWARD"
   ]
  },
  {
   "cell_type": "markdown",
   "metadata": {},
   "source": [
    "L'algorithme forward-backward permet de trouver les états les plus probables, pour un modèle de Markov caché, à n'importe quel instant. "
   ]
  },
  {
   "cell_type": "markdown",
   "metadata": {},
   "source": [
    "Nous créons une matrice de transition (2x2) qui nous permet d'avoir les probabilités des états entre eux (par exemple il y a 70% de chance que si un patient est sain à t il le restera à t+1) : "
   ]
  },
  {
   "cell_type": "code",
   "execution_count": 7,
   "metadata": {},
   "outputs": [
    {
     "name": "stdout",
     "output_type": "stream",
     "text": [
      "[[0.7 0.3]\n",
      " [0.4 0.6]]\n"
     ]
    }
   ],
   "source": [
    "Transmi = np.array([[0.7 , 0.3],[0.4 , 0.6]])\n",
    "print(Transmi)"
   ]
  },
  {
   "cell_type": "markdown",
   "metadata": {},
   "source": [
    "## Forward"
   ]
  },
  {
   "cell_type": "markdown",
   "metadata": {},
   "source": [
    "L'algorithme de forward permet d'avoir les premières observations dans une séquence donnée. C'est-à-dire on obtient la probabilité d'un état à un certain moment, compte tenu de l'historique des preuves. Il va de la premoère séquence à la dernière. "
   ]
  },
  {
   "cell_type": "markdown",
   "metadata": {},
   "source": [
    "Génération d'une matrice d'observation à l'état 0 : "
   ]
  },
  {
   "cell_type": "code",
   "execution_count": 8,
   "metadata": {},
   "outputs": [
    {
     "name": "stdout",
     "output_type": "stream",
     "text": [
      "[[0.7 0. ]\n",
      " [0.  0.1]]\n"
     ]
    }
   ],
   "source": [
    "if obs[0] == 'Normal' : \n",
    "    OF = np.array([[0.7 , 0] , [0 , 0.1]])\n",
    "elif obs[0] == 'Rhume' : \n",
    "    OF = np.array([[0.2 , 0] , [0 , 0.4]])\n",
    "else : \n",
    "    OF = np.array([[0.1 , 0] , [0 , 0.5]])\n",
    "    \n",
    "print(OF)"
   ]
  },
  {
   "cell_type": "markdown",
   "metadata": {},
   "source": [
    "Ici, en fonction de l'observation à l'état 0 nous obtenons une matrice contenant les probabilités pour l'observation sélectionné en fonction des 2 états existants (si l'observation est normal, nous prenons la probabilité liant l'état sain et normal ainsi que l'état malade et normal) dont nous avons besoin pour la suite. "
   ]
  },
  {
   "cell_type": "markdown",
   "metadata": {},
   "source": [
    "De ce fait, nous calculons la probabilité à l'instant 0 en faisant le produit scalaire entre les probabilités initiales (sain (60%) ou malade (40%)) et la matrice d'observation généré au-dessus : "
   ]
  },
  {
   "cell_type": "code",
   "execution_count": 9,
   "metadata": {},
   "outputs": [
    {
     "name": "stdout",
     "output_type": "stream",
     "text": [
      "[[0.42 0.04]\n",
      " [0.   0.  ]\n",
      " [0.   0.  ]\n",
      " [0.   0.  ]\n",
      " [0.   0.  ]]\n"
     ]
    }
   ],
   "source": [
    "PinitF = [0.6 , 0.4]\n",
    "PF = np.zeros([N,2])\n",
    "\n",
    "PF[0,:] = np.dot(PinitF,OF) \n",
    "print(PF)"
   ]
  },
  {
   "cell_type": "markdown",
   "metadata": {},
   "source": [
    "Ainsi nous pouvons créer l'algorithme de forward : \n",
    "\n",
    "Si l'observation à k+1 est normal : \n",
    "    la matrice d'observation prends les probabilités de transmission de normal vers sain et malade\n",
    "Si l'observation à k+1 est rhume : \n",
    "    la matrice d'observation prends les probabilités de transmission de rhume vers sain et malade\n",
    "Si l'observation à k+1 est malade : \n",
    "    la matrice d'observation prends les probabilités de transmission de malade vers sain et malade\n",
    "    \n",
    "De ce fait, pour calculer la probabilité à l'instant k+1 nous faisons un produit scalaire entre la probabilité à k, la matrice de transmission (entre les états) définit plus tôt et la matrice d'observation obtenu juste au dessus. Chaque probabilité calculée sera utilisé pour calculer la probabilité de l'observation suivante. "
   ]
  },
  {
   "cell_type": "code",
   "execution_count": 10,
   "metadata": {},
   "outputs": [
    {
     "name": "stdout",
     "output_type": "stream",
     "text": [
      "[[0.42       0.04      ]\n",
      " [0.217      0.015     ]\n",
      " [0.11053    0.00741   ]\n",
      " [0.0562345  0.0037605 ]\n",
      " [0.02860784 0.00191266]]\n"
     ]
    }
   ],
   "source": [
    "for k in range(N-1):\n",
    "    if obs[k+1] == 'Normal' : \n",
    "        OF = np.array([[0.7 , 0] , [0 , 0.1]])\n",
    "    elif obs[k+1] == 'Rhume' : \n",
    "        OF = np.array([[0.2 , 0] , [0 , 0.4]])\n",
    "    else : \n",
    "        OF = np.array([[0.1 , 0] , [0 , 0.5]])\n",
    "    PF[k+1,:] = np.dot(PF[k,:],np.dot(Transmi,OF))\n",
    "    \n",
    "print(PF)"
   ]
  },
  {
   "cell_type": "markdown",
   "metadata": {},
   "source": [
    "Ainsi nous avons les probabilités d'obtention des états. \n",
    "\n",
    "Par exemple, nous avons 6% de chance que l'état à l'instant 0 soit sain. "
   ]
  },
  {
   "cell_type": "markdown",
   "metadata": {},
   "source": [
    "## Backward"
   ]
  },
  {
   "cell_type": "markdown",
   "metadata": {},
   "source": [
    "L'algorithme de backward est un calcul rétrogressif des probabilités. C'est-à-dire la probabilité d'obtenir les autres observations ultérieurs à un état initial. Nous repartons maintenant de la dernière observation vers la première. Une nouvelle fois, chaque probabilité calculée sera utilisé pour calculer la probabilité de l'observation précédante. "
   ]
  },
  {
   "cell_type": "markdown",
   "metadata": {},
   "source": [
    "Génération d'une matrice d'observation à l'état 0 : "
   ]
  },
  {
   "cell_type": "code",
   "execution_count": 11,
   "metadata": {},
   "outputs": [],
   "source": [
    "if obs[N-1] == 'Normal' : \n",
    "    OB = np.array([[0.7 , 0] , [0 , 0.1]])\n",
    "elif obs[N-1] == 'Rhume' : \n",
    "    OB = np.array([[0.2 , 0] , [0 , 0.4]])\n",
    "else : \n",
    "    OB = np.array([[0.1 , 0] , [0 , 0.5]])"
   ]
  },
  {
   "cell_type": "markdown",
   "metadata": {},
   "source": [
    "Cette matrice suit le même principe que la matrice d'observation utilisé pour l'algorithme forward. "
   ]
  },
  {
   "cell_type": "markdown",
   "metadata": {},
   "source": [
    "Ainsi nous calculons la probabilité au dernier instant (k=4 pour python) en faisant le produit scalaire entre la matrice de transition, d'observation et les probabilités initiales (1 et 1 car il n'y a pas de probabilité initiale concernant la fin des générations des états) : "
   ]
  },
  {
   "cell_type": "code",
   "execution_count": 12,
   "metadata": {},
   "outputs": [
    {
     "data": {
      "text/plain": [
       "array([[0.  , 0.  ],\n",
       "       [0.  , 0.  ],\n",
       "       [0.  , 0.  ],\n",
       "       [0.  , 0.  ],\n",
       "       [0.52, 0.34]])"
      ]
     },
     "execution_count": 12,
     "metadata": {},
     "output_type": "execute_result"
    }
   ],
   "source": [
    "PinitB = [1 , 1]\n",
    "PB = np.zeros([N,2])\n",
    "    \n",
    "PB[N-1,:] = np.dot(Transmi, np.dot(OB,PinitB))\n",
    "PB"
   ]
  },
  {
   "cell_type": "markdown",
   "metadata": {},
   "source": [
    "De ce fait, nous pouvons calculer l'algorithme de backward. En prenant en compte l'observation k+1 nous obtenons la matrice d'observation en suivant toujours le même principe : si l'observation est rhume, nous prenons la probabilité liant l'état sain et rhume ainsi que l'état malade et rhume. \n",
    "\n",
    "Ainsi, nous calculons les probabilités pour les deux états à l'instant k en effectuant le produit scalaire entre la matrice de transmission, la matrice d'observation obtenue au dessus et les probabilités des états à k+1. "
   ]
  },
  {
   "cell_type": "code",
   "execution_count": 13,
   "metadata": {},
   "outputs": [
    {
     "name": "stdout",
     "output_type": "stream",
     "text": [
      "[[0.03489389 0.02177374]\n",
      " [0.0685915  0.042802  ]\n",
      " [0.13483    0.08416   ]\n",
      " [0.265      0.166     ]\n",
      " [0.52       0.34      ]]\n"
     ]
    }
   ],
   "source": [
    "for k in range(N-2,-1,-1):\n",
    "    if obs[k+1] == 'Normal' : \n",
    "        OB = np.array([[0.7 , 0] , [0 , 0.1]])\n",
    "    elif obs[k+1] == 'Rhume' : \n",
    "        OB = np.array([[0.2 , 0] , [0 , 0.4]])\n",
    "    else : \n",
    "        OB = np.array([[0.1 , 0] , [0 , 0.5]])\n",
    "    PB[k,:] = np.dot(Transmi, np.dot(OB,PB[k+1]))\n",
    "    \n",
    "print(PB)"
   ]
  },
  {
   "cell_type": "markdown",
   "metadata": {},
   "source": [
    "Ainsi nous avons les probabilités d'obtention des états. \n",
    "\n",
    "Par exemple, nous avons 0.2% de chance que l'état à l'instant 0 soit sain. "
   ]
  },
  {
   "cell_type": "markdown",
   "metadata": {},
   "source": [
    "### BACKWARD-FORWARD"
   ]
  },
  {
   "cell_type": "markdown",
   "metadata": {},
   "source": [
    "Dorénavant, on peut obtenir la probabilité de l'état caché en prenant en compte la séquence totale des évènements observés. Nous obtenons un résultat plus précis grâce à toutes les observations effectuées. Ainsi, nous multiplions les probabilités que nous avons trouvé avec les deux algorithmes. "
   ]
  },
  {
   "cell_type": "code",
   "execution_count": 14,
   "metadata": {},
   "outputs": [
    {
     "name": "stdout",
     "output_type": "stream",
     "text": [
      "[[0.01465544 0.00087095]\n",
      " [0.01488436 0.00064203]\n",
      " [0.01490276 0.00062363]\n",
      " [0.01490214 0.00062424]\n",
      " [0.01487608 0.00065031]]\n"
     ]
    }
   ],
   "source": [
    "PBF = PF * PB\n",
    "print(PBF)   "
   ]
  },
  {
   "cell_type": "markdown",
   "metadata": {},
   "source": [
    "Ainsi, nous pouvons voir quel sont les états les plus probables. Par exemple, à l'instant k, si la probabilité pour l'état sain est plus grande que pour l'état malade, il y a plus de chance qu'il sera sain à l'instant k."
   ]
  },
  {
   "cell_type": "code",
   "execution_count": 15,
   "metadata": {},
   "outputs": [
    {
     "name": "stdout",
     "output_type": "stream",
     "text": [
      "['sain', 'sain', 'sain', 'sain', 'sain']\n"
     ]
    }
   ],
   "source": [
    "etatfinal = list()\n",
    "\n",
    "if PBF[0,0] > PBF[0,1] : \n",
    "    etatfinal.append('sain')\n",
    "else :\n",
    "    etatfinal.append('malade')\n",
    "\n",
    "for k in range(N-1):\n",
    "    if PBF[k,0] > PBF[k,1] : \n",
    "        etatfinal.append('sain')\n",
    "    else :\n",
    "        etatfinal.append('malade')\n",
    "\n",
    "print(etatfinal)"
   ]
  },
  {
   "cell_type": "markdown",
   "metadata": {},
   "source": [
    "Ainsi, on peut voir quel état est le plus probable pour les 5 instants. Ici, il y a que l'état sain qui ressort. "
   ]
  },
  {
   "cell_type": "markdown",
   "metadata": {},
   "source": [
    "# VITERBI"
   ]
  },
  {
   "cell_type": "markdown",
   "metadata": {},
   "source": [
    "L'algortihme de viterbi permet de trouver la séquence d'états la plus probable en donnant l'estimation par maximum a posteriori. En effet, elle récupère la séquence d'états pour laquelle la probabilité a posteriori est maximale. "
   ]
  },
  {
   "cell_type": "markdown",
   "metadata": {},
   "source": [
    "Pour commencer, nous générons une matrice d'observation à l'état 0  en éxécutant un code suivant le même principe suivi pour les deux autres algorithmes. "
   ]
  },
  {
   "cell_type": "code",
   "execution_count": 16,
   "metadata": {},
   "outputs": [],
   "source": [
    "if obs[0] == 'Normal' : \n",
    "    OV = np.array([[0.7 , 0] , [0 , 0.1]])\n",
    "elif obs[0] == 'Rhume' : \n",
    "    OV = np.array([[0.2 , 0] , [0 , 0.4]])\n",
    "else : \n",
    "    OV = np.array([[0.1 , 0] , [0 , 0.5]])"
   ]
  },
  {
   "cell_type": "markdown",
   "metadata": {},
   "source": [
    "## Matrice des probabilités maximales et des états précédants : "
   ]
  },
  {
   "cell_type": "markdown",
   "metadata": {},
   "source": [
    "Dorénavant, nous calculons la probabilité à l'état 0 en faisant le produit scalaire entre la matrice de transition et les probabilités initiales (probabilité d'être sain ou malade). Enfin, nous pouvons trouver quelle est la probabilité maximum entre celle obtenu pour que l'état soit sain et pour que l'état soit malade afin de récupérer la plus forte c'est-à-dire celle qui a le plus de chance de s'éxécuter. "
   ]
  },
  {
   "cell_type": "code",
   "execution_count": 17,
   "metadata": {},
   "outputs": [],
   "source": [
    "PinitV = [0.6 , 0.4]\n",
    "PV = np.zeros([N,2])\n",
    "ProbaMax = np.zeros([N,1])\n",
    "\n",
    "PV[0,:] = np.dot(PinitV,Transmi)\n",
    "ProbaMax[0] = max(PV[0,0],PV[0,1])"
   ]
  },
  {
   "cell_type": "markdown",
   "metadata": {},
   "source": [
    "Ainsi, nous pouvons calculer la probabilité d'un état en récupérant le maximum entre la probabilité qu'il soit sain et qu'il soit malade. Nous effectuons ce calcul en deux parties : d'abord pour la séquence d'état sain puis pour celle de l'état malade. Grâce à celà et à un maximum effectué entre ces deux probabilités calculées nous pouvons récupérer l'état le plus probable (dans la deuxième partie). "
   ]
  },
  {
   "cell_type": "markdown",
   "metadata": {},
   "source": [
    "D'abord, nous calculons à nouveau la matrice d'observation à chaque séquence.\n",
    "\n",
    "Pour calculer la probabilité de l'état sain nous prenons le maximum entre : \n",
    "    - le  produit scalaire de la probabilité d'avoir l'état sain a posteriori, la matrice de transimission de sain à sain et la matrice d'observation pour l'état sain. \n",
    "    - le  produit scalaire de la probabilité d'avoir l'état malade a posteriori, la matrice de transimission de sain à malade et la matrice d'observation pour l'état sain. \n",
    "\n",
    "Pour calculer la probabilité de l'état malade nous prenons le maximum entre : \n",
    "    - le  produit scalaire de la probabilité d'avoir l'état sain a posteriori, la matrice de transimission de malade à sain et la matrice d'observation pour l'état malade. \n",
    "    - le  produit scalaire de la probabilité d'avoir l'état malade a posteriori, la matrice de transimission de malade à malade et la matrice d'observation pour l'état malade. \n",
    "    \n",
    "Nous calculons la probabilité maximale entre ces deux probabilités calculées. \n",
    "\n",
    "Pour finir, après avoir créé la matrice de stockage, dedans, on génère par des 0 et 1 le maximum calculé au dessus (celui pour l'état sain et pour l'état malade : pas ProbaMax). Par exemple, si à la première ligne, première colonne il affiche 1 cela veut dire que même si il est sain, il était malade à l'état précédant. "
   ]
  },
  {
   "cell_type": "code",
   "execution_count": 18,
   "metadata": {},
   "outputs": [
    {
     "name": "stdout",
     "output_type": "stream",
     "text": [
      "[[0.58       0.42      ]\n",
      " [0.2842     0.0252    ]\n",
      " [0.139258   0.011368  ]\n",
      " [0.06823642 0.00557032]\n",
      " [0.03343585 0.00272946]]\n",
      "[[0.58      ]\n",
      " [0.2842    ]\n",
      " [0.139258  ]\n",
      " [0.06823642]\n",
      " [0.03343585]]\n"
     ]
    }
   ],
   "source": [
    "Stockage = np.zeros([N,2])\n",
    "\n",
    "for k in range(N-1):\n",
    "    if obs[k+1] == 'Normal' : \n",
    "        OV = np.array([[0.7 , 0] , [0 , 0.1]])\n",
    "    elif obs[k+1] == 'Rhume' : \n",
    "        OV = np.array([[0.2 , 0] , [0 , 0.4]])\n",
    "    else : \n",
    "        OV = np.array([[0.1 , 0] , [0 , 0.5]])\n",
    "    PV[k+1,0] = max(np.dot(PV[k,0],(np.dot(Transmi[0,0], OV[0,0]))),np.dot(PV[k,1],(np.dot(Transmi[0,1], OV[0,0]))))\n",
    "    PV[k+1,1] = max(np.dot(PV[k,0],(np.dot(Transmi[1,0], OV[1,1]))),np.dot(PV[k,1],(np.dot(Transmi[1,1], OV[1,1]))))\n",
    "    ProbaMax[k+1] = max(PV[k+1,0],PV[k+1,1])\n",
    "    \n",
    "    Stockage[k,0] = np.argmax([np.dot(PV[k-1,0],(np.dot(Transmi[0,0], OV[0,0]))),np.dot(PV[k-1,1],(np.dot(Transmi[0,1], OV[0,0])))])\n",
    "    Stockage[k,1] = np.argmax([np.dot(PV[k-1,1],(np.dot(Transmi[1,0], OV[1,1]))),np.dot(PV[k-1,1],(np.dot(Transmi[1,1], OV[1,1])))])\n",
    "            \n",
    "print(PV)\n",
    "\n",
    "print(ProbaMax)"
   ]
  },
  {
   "cell_type": "markdown",
   "metadata": {},
   "source": [
    "Avant de voir la matrice des états les plus probables, nous pouvons rapidement voir quel est l'état antérieur de chaque état. "
   ]
  },
  {
   "cell_type": "markdown",
   "metadata": {},
   "source": [
    "Pour cela, nous prenons notre matrice de stockage et lorsqu'elle affichait 0 nous avons remplacé cela par sain et si elle affichait 1 nous l'avons remplacé par malade. Pour cela, nous avons créé deux listes, une pour l'état sain et l'autre pour l'état malade. "
   ]
  },
  {
   "cell_type": "code",
   "execution_count": 19,
   "metadata": {
    "scrolled": true
   },
   "outputs": [
    {
     "name": "stdout",
     "output_type": "stream",
     "text": [
      "[[0. 0.]\n",
      " [0. 1.]\n",
      " [0. 1.]\n",
      " [0. 1.]\n",
      " [0. 0.]]\n"
     ]
    }
   ],
   "source": [
    "print(Stockage)\n",
    "\n",
    "etatsanterieur = list() \n",
    "etatsanterieurM = list() \n",
    "\n",
    "#sain    \n",
    "for k in range(N):\n",
    "    if Stockage[k,0] == 1 : \n",
    "        etatsanterieur.append('Malade')\n",
    "    else : \n",
    "        etatsanterieur.append('Sain')\n",
    "\n",
    "#malade\n",
    "for k in range(N):\n",
    "    if Stockage[k,1] == 1 : \n",
    "        etatsanterieurM.append('Malade')\n",
    "    else : \n",
    "        etatsanterieurM.append('Sain')"
   ]
  },
  {
   "cell_type": "markdown",
   "metadata": {},
   "source": [
    "Les états précédants les plus probables quand on est sain sont : "
   ]
  },
  {
   "cell_type": "code",
   "execution_count": 20,
   "metadata": {},
   "outputs": [
    {
     "name": "stdout",
     "output_type": "stream",
     "text": [
      "['Sain', 'Sain', 'Sain', 'Sain', 'Sain']\n"
     ]
    }
   ],
   "source": [
    "print(etatsanterieur)"
   ]
  },
  {
   "cell_type": "markdown",
   "metadata": {},
   "source": [
    "Les états précédants les plus probables quand on est malade sont : "
   ]
  },
  {
   "cell_type": "code",
   "execution_count": 21,
   "metadata": {},
   "outputs": [
    {
     "name": "stdout",
     "output_type": "stream",
     "text": [
      "['Sain', 'Malade', 'Malade', 'Malade', 'Sain']\n"
     ]
    }
   ],
   "source": [
    "print(etatsanterieurM)"
   ]
  },
  {
   "cell_type": "markdown",
   "metadata": {},
   "source": [
    "## Matrice des états les plus probables : "
   ]
  },
  {
   "cell_type": "markdown",
   "metadata": {},
   "source": [
    "Comme dit précédemment, nous souhaitons dorénavant récupérer les états les plus probables."
   ]
  },
  {
   "cell_type": "markdown",
   "metadata": {},
   "source": [
    "Tout d'abord, nous générons l'état le plus probable pour le dernier état récupéré avant de les trouver grâce à une boucle.\n",
    "\n",
    "Comme pour calculer la probabilité maximale, nous prenons la maximum entre la probabilité d'être sain (ligne 0) et celle d'être malade (ligne 1), en utilisant les probabilités calculées juste au dessus (PV), et générons ce résultat sous force de 0 (sain) ou 1 (malade). Ainsi, nous pouvons récupérer dans la matrice de stockage quel est l'état le plus probable pour l'instant k en récupérant sa donnée placé pour la séquence k+1.  \n",
    "\n",
    "De plus, nous créons une liste afin de visualier ce que nous venons de faire et qui part du dernier état le plus probable au premier état le plus probable. Celle-ci traduit les 0 et les 1 en malade et sain. Elle créé la chaîne des états. "
   ]
  },
  {
   "cell_type": "code",
   "execution_count": 22,
   "metadata": {},
   "outputs": [
    {
     "name": "stdout",
     "output_type": "stream",
     "text": [
      "[[0.]\n",
      " [0.]\n",
      " [0.]\n",
      " [0.]\n",
      " [0.]]\n",
      "['Sain', 'Sain', 'Sain', 'Sain', 'Sain']\n"
     ]
    }
   ],
   "source": [
    "etats_probables = np.zeros([N,1])\n",
    "etatspp = list()\n",
    "\n",
    "#son état à la fin : \n",
    "if PV[N-1,0] > PV[N-1,1] : \n",
    "    etats_probables[N-1] = 0\n",
    "else :\n",
    "    etats_probables[N-1] = 1\n",
    "\n",
    "for k in range(N-2,-1,-1) :\n",
    "    if etats_probables[k+1] == 1 : \n",
    "        etats_probables[k] = Stockage[k+1,1]\n",
    "        if etats_probables[k] == 0 : \n",
    "            etatspp.append('Sain')\n",
    "        else : \n",
    "            etatspp.append('Malade')\n",
    "    else : \n",
    "        etats_probables[k] = Stockage[k+1,0]\n",
    "        if etats_probables[k] == 0:\n",
    "            etatspp.append('Sain')\n",
    "        else : \n",
    "            etatspp.append('Malade')\n",
    "            \n",
    "if etats_probables[0] == 0:\n",
    "    etatspp.append('Sain')\n",
    "else : \n",
    "    etatspp.append('Malade')\n",
    "        \n",
    "print(etats_probables)\n",
    "print(etatspp)"
   ]
  }
 ],
 "metadata": {
  "kernelspec": {
   "display_name": "Python 3",
   "language": "python",
   "name": "python3"
  },
  "language_info": {
   "codemirror_mode": {
    "name": "ipython",
    "version": 3
   },
   "file_extension": ".py",
   "mimetype": "text/x-python",
   "name": "python",
   "nbconvert_exporter": "python",
   "pygments_lexer": "ipython3",
   "version": "3.8.5"
  }
 },
 "nbformat": 4,
 "nbformat_minor": 4
}
